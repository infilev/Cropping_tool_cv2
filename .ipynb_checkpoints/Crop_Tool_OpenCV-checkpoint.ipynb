{
 "cells": [
  {
   "cell_type": "code",
   "execution_count": 1,
   "id": "09fb573a-59f0-4a0d-8382-c8d6da6f04e7",
   "metadata": {},
   "outputs": [],
   "source": [
    "import cv2"
   ]
  },
  {
   "cell_type": "code",
   "execution_count": 2,
   "id": "21572fed-89c3-4427-bd9f-ab8e130cd1c6",
   "metadata": {},
   "outputs": [],
   "source": [
    "import numpy as np"
   ]
  },
  {
   "cell_type": "code",
   "execution_count": 3,
   "id": "0d23de27-5d05-4db4-8e70-ef341011bcb9",
   "metadata": {},
   "outputs": [],
   "source": [
    "flag = False\n",
    "ix = -1\n",
    "iy = -1\n",
    "def crop(event, x,y, flags, params):\n",
    "    global flag,ix,iy\n",
    "\n",
    "    #mouse click (==1) and ix = x means mouse's current mouse x position \n",
    "    if event == 1:\n",
    "\n",
    "        flag = True\n",
    "        ix = x\n",
    "        iy = y\n",
    "        \n",
    "    elif event == 4:\n",
    "         # current points stored in fx and fy (last points x and y where we left after drawing the rectangle)\n",
    "         # from ix (starting point) to fx and same for iy,fy as shown in cropped\n",
    "         fx = x\n",
    "         fy = y \n",
    "\n",
    "         flag=False\n",
    "         cv2.rectangle(img, pt1=(ix, iy), pt2 = (x, y), thickness =10, color=(255,50,255))  \n",
    "\n",
    "         #slicing\n",
    "         cropped = img[iy:fy,ix:fx]\n",
    "         cv2.imshow(\"new window\", cropped)\n",
    "         cv2.waitKey(0)\n",
    "\n",
    "\n",
    "# creating event listener\n",
    "cv2.namedWindow(winname = \"window\")\n",
    "cv2.setMouseCallback(\"window\", crop)\n",
    "\n",
    "img  = cv2.imread(\"C:\\\\Users\\\\anubh\\\\Desktop\\\\Data Science\\\\Data Science_sources\\\\OpenCV\\\\Cropping_tool\\\\mount.jpg\")\n",
    "#C:\\\\Users\\\\anubh\\\\Desktop\\\\Data Science\\\\Data Science_sources\\\\OpenCV\\\\\n",
    "\n",
    "while True:\n",
    "    cv2.imshow(\"window\", img)\n",
    "\n",
    "    if cv2.waitKey(1) & 0xFF == ord('x'):\n",
    "                                    break;\n",
    "cv2.destroyAllWindows() "
   ]
  },
  {
   "cell_type": "code",
   "execution_count": 4,
   "id": "34ce6d25-7f2f-4ca2-8c74-b50f561c5630",
   "metadata": {},
   "outputs": [],
   "source": [
    "# pt1: coordinates of the top-left corner of the rectangle\n",
    "# pt2: The coordinates of the bottom-right corner of the rectangle\n",
    "# image has been taken form pexels and try to use low resolution image"
   ]
  }
 ],
 "metadata": {
  "kernelspec": {
   "display_name": "Python 3 (ipykernel)",
   "language": "python",
   "name": "python3"
  },
  "language_info": {
   "codemirror_mode": {
    "name": "ipython",
    "version": 3
   },
   "file_extension": ".py",
   "mimetype": "text/x-python",
   "name": "python",
   "nbconvert_exporter": "python",
   "pygments_lexer": "ipython3",
   "version": "3.12.2"
  }
 },
 "nbformat": 4,
 "nbformat_minor": 5
}
